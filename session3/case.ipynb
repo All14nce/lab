{
 "cells": [
  {
   "cell_type": "markdown",
   "metadata": {},
   "source": [
    "•\tTranscribe the DNA sequence A and sequence B into mRNA.\n",
    "•\tCombine 24 starting nucleotides of mRNA sequence A and 21 ending nucleotides of mRNA sequence B and set it as mRNA sequence C.\n",
    "•\tTranslate the mRNA sequence A, sequence B, and sequence C into amino acids sequences.\n",
    "•\tTranscribe back the mRNA sequence C into DNA.\n",
    "•\tCalculate the complementary sequences of DNA sequence A, sequence B, and sequence C."
   ]
  },
  {
   "cell_type": "code",
   "execution_count": 6,
   "metadata": {},
   "outputs": [
    {
     "name": "stdout",
     "output_type": "stream",
     "text": [
      "No 1\n",
      "AUGCGUUUAUGACGUAUCUGAAGUCUACUAGGGUGAUCUGACUAA\n",
      "GUGUUAGUGCGCUAGUGCUGACUAGGUACAGUAGCUAGUUACUAG\n",
      " \n",
      "No 2\n",
      "AUGCGUUUAUGACGUAUCUGAAGUGGUACAGUAGCUAGUUACUAG\n",
      " \n",
      "No 3\n",
      "MRL*RI*SLLG*SD*\n",
      "VLVR*C*LGTVASY*\n",
      "MRL*RI*SGTVASY*\n",
      " \n",
      "No 4\n",
      "ATGCGTTTATGACGTATCTGAAGTGGTACAGTAGCTAGTTACTAG\n",
      " \n",
      "No 5\n",
      "TACGCAAATACTGCATAGACTTCAGATGATCCCACTAGACTGATT\n",
      "CACAATCACGCGATCACGACTGATCCATGTCATCGATCAATGATC\n",
      "TACGCAAATACTGCATAGACTTCACCATGTCATCGATCAATGATC\n"
     ]
    }
   ],
   "source": [
    "from Bio.Seq import Seq\n",
    "\n",
    "SeqA = Seq(\"ATGCGTTTATGACGTATCTGAAGTCTACTAGGGTGATCTGACTAA\")\n",
    "SeqB = Seq(\"GTGTTAGTGCGCTAGTGCTGACTAGGTACAGTAGCTAGTTACTAG\")\n",
    "\n",
    "\n",
    "# no1\n",
    "print(\"No 1\")\n",
    "mRNAA = SeqA.transcribe()\n",
    "mRNAB = SeqB.transcribe()\n",
    "\n",
    "print(mRNAA)\n",
    "print(mRNAB)\n",
    "\n",
    "print(\" \")\n",
    "\n",
    "# no2\n",
    "print(\"No 2\")\n",
    "mRNAC = mRNAA[:24] + mRNAB[-21:]\n",
    "print(mRNAC)\n",
    "print(\" \")\n",
    "# no3\n",
    "print(\"No 3\")\n",
    "print(mRNAA.translate())\n",
    "print(mRNAB.translate())\n",
    "print(mRNAC.translate())\n",
    "print(\" \")\n",
    "\n",
    "print(\"No 4\")\n",
    "SeqC = mRNAC.back_transcribe() \n",
    "print(SeqC)\n",
    "print(\" \")\n",
    "\n",
    "print(\"No 5\")\n",
    "print(SeqA.complement())\n",
    "print(SeqB.complement())\n",
    "print(SeqC.complement())\n",
    "\n",
    "\n"
   ]
  }
 ],
 "metadata": {
  "kernelspec": {
   "display_name": "ComputationalBiology",
   "language": "python",
   "name": "python3"
  },
  "language_info": {
   "name": "python",
   "version": "3.7.6"
  }
 },
 "nbformat": 4,
 "nbformat_minor": 2
}
