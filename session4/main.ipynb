{
 "cells": [
  {
   "cell_type": "code",
   "execution_count": 1,
   "metadata": {},
   "outputs": [
    {
     "name": "stdout",
     "output_type": "stream",
     "text": [
      "test\n"
     ]
    }
   ],
   "source": [
    "# global alignment dan local\n",
    "\n",
    "# cuman pengen tau mirip nda antara 2 sequence , kalau alignment dia end to end, kalau local dia nda secara end to end dia hanya tengah\" aja saat mencari similaritynya\n",
    "\n",
    "# ini global\n",
    "# ACGACT\n",
    "# A----C\n",
    "# kalau local\n",
    "# AC"
   ]
  },
  {
   "cell_type": "markdown",
   "metadata": {},
   "source": [
    "Global"
   ]
  },
  {
   "cell_type": "code",
   "execution_count": 1,
   "metadata": {},
   "outputs": [],
   "source": [
    "from Bio import pairwise2\n",
    "from Bio.pairwise2 import format_alignment\n",
    "from Bio.Seq import Seq"
   ]
  },
  {
   "cell_type": "code",
   "execution_count": 2,
   "metadata": {},
   "outputs": [],
   "source": [
    "seq1 = Seq('ACTCGT')\n",
    "seq2 = Seq('ATTCG')"
   ]
  },
  {
   "cell_type": "code",
   "execution_count": 4,
   "metadata": {},
   "outputs": [
    {
     "data": {
      "text/plain": [
       "[Alignment(seqA='ACT-CGT', seqB='A-TTCG-', score=4.0, start=0, end=7),\n",
       " Alignment(seqA='AC-TCGT', seqB='A-TTCG-', score=4.0, start=0, end=7),\n",
       " Alignment(seqA='ACTCGT', seqB='ATTCG-', score=4.0, start=0, end=6)]"
      ]
     },
     "execution_count": 4,
     "metadata": {},
     "output_type": "execute_result"
    }
   ],
   "source": [
    "alignments = pairwise2.align.globalxx(seq1,seq2)\n",
    "\n",
    "alignments"
   ]
  },
  {
   "cell_type": "code",
   "execution_count": 5,
   "metadata": {},
   "outputs": [
    {
     "name": "stdout",
     "output_type": "stream",
     "text": [
      "ACT-CGT\n",
      "| | || \n",
      "A-TTCG-\n",
      "  Score=4\n",
      "\n"
     ]
    }
   ],
   "source": [
    "print(format_alignment(*alignments[0]))"
   ]
  },
  {
   "cell_type": "markdown",
   "metadata": {},
   "source": [
    "Local"
   ]
  },
  {
   "cell_type": "code",
   "execution_count": 6,
   "metadata": {},
   "outputs": [
    {
     "data": {
      "text/plain": [
       "[Alignment(seqA='ACT-CGT', seqB='A-TTCG-', score=4.0, start=0, end=6),\n",
       " Alignment(seqA='AC-TCGT', seqB='A-TTCG-', score=4.0, start=0, end=6),\n",
       " Alignment(seqA='ACTCGT', seqB='ATTCG-', score=4.0, start=0, end=5)]"
      ]
     },
     "execution_count": 6,
     "metadata": {},
     "output_type": "execute_result"
    }
   ],
   "source": [
    "loc_alignment = pairwise2.align.localxx(seq1,seq2)\n",
    "\n",
    "loc_alignment"
   ]
  },
  {
   "cell_type": "code",
   "execution_count": 7,
   "metadata": {},
   "outputs": [
    {
     "name": "stdout",
     "output_type": "stream",
     "text": [
      "1 ACT-CG\n",
      "  | | ||\n",
      "1 A-TTCG\n",
      "  Score=4\n",
      "\n"
     ]
    }
   ],
   "source": [
    "print(format_alignment(*loc_alignment[0]))"
   ]
  },
  {
   "cell_type": "markdown",
   "metadata": {},
   "source": [
    "menampilkan score only"
   ]
  },
  {
   "cell_type": "code",
   "execution_count": 9,
   "metadata": {},
   "outputs": [
    {
     "data": {
      "text/plain": [
       "4.0"
      ]
     },
     "execution_count": 9,
     "metadata": {},
     "output_type": "execute_result"
    }
   ],
   "source": [
    "score = pairwise2.align.localxx(seq1,seq2,score_only = True,one_alignment_only= True)\n",
    "\n",
    "score"
   ]
  },
  {
   "cell_type": "markdown",
   "metadata": {},
   "source": [
    "akurasi"
   ]
  },
  {
   "cell_type": "code",
   "execution_count": 10,
   "metadata": {},
   "outputs": [
    {
     "data": {
      "text/plain": [
       "66.66666666666666"
      ]
     },
     "execution_count": 10,
     "metadata": {},
     "output_type": "execute_result"
    }
   ],
   "source": [
    "score / len(seq1) * 100"
   ]
  },
  {
   "cell_type": "code",
   "execution_count": 31,
   "metadata": {},
   "outputs": [],
   "source": [
    "SeqA = Seq('AAGGCTT')\n",
    "SeqB = Seq('AAGGCC')\n",
    "SeqC = Seq('AAGGCAT')"
   ]
  },
  {
   "cell_type": "code",
   "execution_count": 16,
   "metadata": {},
   "outputs": [
    {
     "name": "stdout",
     "output_type": "stream",
     "text": [
      "AvB 83.33333333333334\n",
      "BvC 83.33333333333334\n",
      "CvA 85.71428571428571\n"
     ]
    }
   ],
   "source": [
    "AvB = pairwise2.align.localxx(SeqA,SeqB,score_only = True,one_alignment_only= True)\n",
    "BvC = pairwise2.align.localxx(SeqB,SeqC,score_only = True,one_alignment_only= True)\n",
    "CvA = pairwise2.align.localxx(SeqC,SeqA,score_only = True,one_alignment_only= True)\n",
    "\n",
    "print('AvB', AvB / len(SeqB)* 100)\n",
    "print('BvC', BvC / len(SeqB)* 100)\n",
    "print('CvA', CvA / len(SeqC)* 100)\n",
    "\n",
    "# ini udah masuk ke seimilarity analysis\n"
   ]
  },
  {
   "cell_type": "markdown",
   "metadata": {},
   "source": [
    "hamming distance -> dua sequence yang sama \n",
    "\n",
    "ada berapa yang nd cocok"
   ]
  },
  {
   "cell_type": "code",
   "execution_count": 33,
   "metadata": {},
   "outputs": [],
   "source": [
    "def hamming_distance(lhs,rhs):\n",
    "    return len([(x,y) for x,y in zip(lhs,rhs) if x != y])"
   ]
  },
  {
   "cell_type": "code",
   "execution_count": 32,
   "metadata": {},
   "outputs": [
    {
     "data": {
      "text/plain": [
       "1"
      ]
     },
     "execution_count": 32,
     "metadata": {},
     "output_type": "execute_result"
    }
   ],
   "source": [
    "hamming_distance(SeqA,SeqB)"
   ]
  },
  {
   "cell_type": "code",
   "execution_count": 34,
   "metadata": {},
   "outputs": [
    {
     "data": {
      "text/plain": [
       "1"
      ]
     },
     "execution_count": 34,
     "metadata": {},
     "output_type": "execute_result"
    }
   ],
   "source": [
    "seqA = Seq('ACTGT')\n",
    "seqB = Seq('AGTGT')\n",
    "\n",
    "hamming_distance(seqA,seqB)"
   ]
  },
  {
   "cell_type": "code",
   "execution_count": 44,
   "metadata": {},
   "outputs": [
    {
     "data": {
      "text/plain": [
       "1"
      ]
     },
     "execution_count": 44,
     "metadata": {},
     "output_type": "execute_result"
    }
   ],
   "source": [
    "from Levenshtein import distance\n",
    "\n",
    "distance(str(seqA), str(seqB))"
   ]
  },
  {
   "cell_type": "markdown",
   "metadata": {},
   "source": [
    "Tida ada di ujian yang bawah ini "
   ]
  },
  {
   "cell_type": "code",
   "execution_count": 56,
   "metadata": {},
   "outputs": [
    {
     "name": "stdout",
     "output_type": "stream",
     "text": [
      " |ACGT\n",
      "------\n",
      "A|■   \n",
      "T|   ■\n",
      "T|   ■\n",
      "A|■   \n",
      " |AGA\n",
      "-----\n",
      "A|■  ■\n",
      "G| ■ \n",
      "G| ■ \n",
      "T|  \n",
      "A|■  ■\n"
     ]
    }
   ],
   "source": [
    "def delta(x,y):\n",
    "    return 0 if x == y else 1\n",
    "\n",
    "def M(seq1,seq2, i,j,k):\n",
    "    return sum(delta(x,y) for x,y in zip(seq1[i:i+k],seq2[j:j+k]))\n",
    "\n",
    "def MakeMatrix(seq1,seq2,k):\n",
    "    n = len(seq1)\n",
    "    m = len(seq2)\n",
    "\n",
    "    return[[M(seq1,seq2,i,j,k) for j in range(m-k+1)] for i in range(n-k+1)]\n",
    "\n",
    "def plotMatrix(M,t,seq1,seq2,nonblank = chr(0x25A0), blank = ''):\n",
    "    print(\" |\" + seq2)\n",
    "    print(\"-\" *(2+ len(seq2)))\n",
    "\n",
    "    for label,row in zip(seq1,M):\n",
    "        line = ' '.join(nonblank if s < t else blank for s in row)\n",
    "        print(label + '|' + line)\n",
    "\n",
    "def dotplot(seq1,seq2, k = 1, t = 1):\n",
    "    M = MakeMatrix(seq1,seq2,k)\n",
    "    plotMatrix(M,t,seq1,seq2)\n",
    "\n",
    "seq1 = Seq(\"ATTA\")\n",
    "seq2 = Seq(\"ACGT\")\n",
    "\n",
    "dotplot(seq1,seq2)\n",
    "\n",
    "seq1 = Seq(\"AGGTA\")\n",
    "seq2 = Seq(\"AGA\")\n",
    "\n",
    "dotplot(seq1,seq2)\n",
    "\n",
    "# kamer group sesuai jumlah k\n"
   ]
  },
  {
   "cell_type": "code",
   "execution_count": 58,
   "metadata": {},
   "outputs": [
    {
     "data": {
      "image/png": "[encoded data removed]",
      "text/plain": [
       "<Figure size 640x480 with 1 Axes>"
      ]
     },
     "metadata": {},
     "output_type": "display_data"
    }
   ],
   "source": [
    "import numpy as  np\n",
    "import matplotlib.pyplot as plt\n",
    "\n",
    "def dotPlotFancy(seq1,seq2):\n",
    "    plt.imshow(np.array(MakeMatrix(seq1,seq2,1)))\n",
    "    xt = plt.xticks(np.arange(len(list(seq2))), list(seq2))\n",
    "    xy = plt.xticks(np.arange(len(list(seq1))), list(seq1))\n",
    "\n",
    "    plt.show()\n",
    "\n",
    "dotPlotFancy(seq1,seq2)"
   ]
  }
 ],
 "metadata": {
  "kernelspec": {
   "display_name": "ComputationalBiology",
   "language": "python",
   "name": "python3"
  },
  "language_info": {
   "codemirror_mode": {
    "name": "ipython",
    "version": 3
   },
   "file_extension": ".py",
   "mimetype": "text/x-python",
   "name": "python",
   "nbconvert_exporter": "python",
   "pygments_lexer": "ipython3",
   "version": "3.7.6"
  }
 },
 "nbformat": 4,
 "nbformat_minor": 2
}
