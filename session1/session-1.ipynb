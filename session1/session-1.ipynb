{
 "cells": [
  {
   "cell_type": "code",
   "execution_count": 3,
   "metadata": {},
   "outputs": [
    {
     "data": {
      "application/3dmoljs_load.v0": "<div id=\"3dmolviewer_1700192369673804\"  style=\"position: relative; width: 640px; height: 480px\">\n        <p id=\"3dmolwarning_1700192369673804\" style=\"background-color:#ffcccc;color:black\">You appear to be running in JupyterLab (or JavaScript failed to load for some other reason).  You need to install the 3dmol extension: <br>\n        <tt>jupyter labextension install jupyterlab_3dmol</tt></p>\n        </div>\n<script>\n\nvar loadScriptAsync = function(uri){\n  return new Promise((resolve, reject) => {\n    //this is to ignore the existence of requirejs amd\n    var savedexports, savedmodule;\n    if (typeof exports !== 'undefined') savedexports = exports;\n    else exports = {}\n    if (typeof module !== 'undefined') savedmodule = module;\n    else module = {}\n\n    var tag = document.createElement('script');\n    tag.src = uri;\n    tag.async = true;\n    tag.onload = () => {\n        exports = savedexports;\n        module = savedmodule;\n        resolve();\n    };\n  var firstScriptTag = document.getElementsByTagName('script')[0];\n  firstScriptTag.parentNode.insertBefore(tag, firstScriptTag);\n});\n};\n\nif(typeof $3Dmolpromise === 'undefined') {\n$3Dmolpromise = null;\n  $3Dmolpromise = loadScriptAsync('https://cdnjs.cloudflare.com/ajax/libs/3Dmol/2.0.1/3Dmol-min.js');\n}\n\nvar viewer_1700192369673804 = null;\nvar warn = document.getElementById(\"3dmolwarning_1700192369673804\");\nif(warn) {\n    warn.parentNode.removeChild(warn);\n}\n$3Dmolpromise.then(function() {\nviewer_1700192369673804 = $3Dmol.createViewer(document.getElementById(\"3dmolviewer_1700192369673804\"),{backgroundColor:\"white\"});\n$3Dmol.download(\"pdb:8TGE\", viewer_1700192369673804, {}, function() {\nviewer_1700192369673804.zoomTo();\n\tviewer_1700192369673804.setStyle({\"cartoon\": {\"color\": \"spectrum\"}});\nviewer_1700192369673804.render();\n})\n});\n</script>",
      "text/html": [
       "<div id=\"3dmolviewer_1700192369673804\"  style=\"position: relative; width: 640px; height: 480px\">\n",
       "        <p id=\"3dmolwarning_1700192369673804\" style=\"background-color:#ffcccc;color:black\">You appear to be running in JupyterLab (or JavaScript failed to load for some other reason).  You need to install the 3dmol extension: <br>\n",
       "        <tt>jupyter labextension install jupyterlab_3dmol</tt></p>\n",
       "        </div>\n",
       "<script>\n",
       "\n",
       "var loadScriptAsync = function(uri){\n",
       "  return new Promise((resolve, reject) => {\n",
       "    //this is to ignore the existence of requirejs amd\n",
       "    var savedexports, savedmodule;\n",
       "    if (typeof exports !== 'undefined') savedexports = exports;\n",
       "    else exports = {}\n",
       "    if (typeof module !== 'undefined') savedmodule = module;\n",
       "    else module = {}\n",
       "\n",
       "    var tag = document.createElement('script');\n",
       "    tag.src = uri;\n",
       "    tag.async = true;\n",
       "    tag.onload = () => {\n",
       "        exports = savedexports;\n",
       "        module = savedmodule;\n",
       "        resolve();\n",
       "    };\n",
       "  var firstScriptTag = document.getElementsByTagName('script')[0];\n",
       "  firstScriptTag.parentNode.insertBefore(tag, firstScriptTag);\n",
       "});\n",
       "};\n",
       "\n",
       "if(typeof $3Dmolpromise === 'undefined') {\n",
       "$3Dmolpromise = null;\n",
       "  $3Dmolpromise = loadScriptAsync('https://cdnjs.cloudflare.com/ajax/libs/3Dmol/2.0.1/3Dmol-min.js');\n",
       "}\n",
       "\n",
       "var viewer_1700192369673804 = null;\n",
       "var warn = document.getElementById(\"3dmolwarning_1700192369673804\");\n",
       "if(warn) {\n",
       "    warn.parentNode.removeChild(warn);\n",
       "}\n",
       "$3Dmolpromise.then(function() {\n",
       "viewer_1700192369673804 = $3Dmol.createViewer(document.getElementById(\"3dmolviewer_1700192369673804\"),{backgroundColor:\"white\"});\n",
       "$3Dmol.download(\"pdb:8TGE\", viewer_1700192369673804, {}, function() {\n",
       "viewer_1700192369673804.zoomTo();\n",
       "\tviewer_1700192369673804.setStyle({\"cartoon\": {\"color\": \"spectrum\"}});\n",
       "viewer_1700192369673804.render();\n",
       "})\n",
       "});\n",
       "</script>"
      ]
     },
     "metadata": {},
     "output_type": "display_data"
    },
    {
     "data": {
      "text/plain": [
       "<py3Dmol.view at 0x198bff86608>"
      ]
     },
     "execution_count": 3,
     "metadata": {},
     "output_type": "execute_result"
    }
   ],
   "source": [
    "from py3Dmol import view\n",
    "view(query='pdb:8TGE').setStyle({'cartoon':{'color':'spectrum'}})"
   ]
  },
  {
   "cell_type": "code",
   "execution_count": 37,
   "metadata": {},
   "outputs": [
    {
     "name": "stdout",
     "output_type": "stream",
     "text": [
      "CGATGTGC\n",
      "3\n",
      "7\n",
      "1\n",
      "4\n",
      "TACGA\n",
      "M\n"
     ]
    },
    {
     "name": "stderr",
     "output_type": "stream",
     "text": [
      "c:\\Users\\alfon\\AppData\\Local\\Programs\\Python\\Python37\\lib\\site-packages\\Bio\\Seq.py:2338: BiopythonWarning: Partial codon, len(sequence) not a multiple of three. Explicitly trim the sequence or add trailing N before translation. This may become an error in future.\n",
      "  BiopythonWarning,\n"
     ]
    },
    {
     "data": {
      "image/png": "[encoded data removed]",
      "text/plain": [
       "<Figure size 640x480 with 1 Axes>"
      ]
     },
     "metadata": {},
     "output_type": "display_data"
    }
   ],
   "source": [
    "# Computational Biologu\n",
    "#  Sesil\n",
    "#  nucleobase\n",
    "\n",
    "#  C -> sitosion  G -> guanin A -> adenin T -> timin U -> urasil\n",
    "\n",
    "# splicing \n",
    "# [CGATG] ATTCA -> kentang hardy/kuat\n",
    "# CTAGTCA [TGC] -> kentang besar\n",
    "\n",
    "# CGATG TGC\n",
    "\n",
    "from Bio.Seq import Seq\n",
    "\n",
    "hardy = Seq(\"CGATGATTCA\")\n",
    "big = Seq(\"CTAGTCATGC\")\n",
    "\n",
    "# [start:end:step]\n",
    "# [0:5]\n",
    "print(hardy[0:5] + big[7::])\n",
    "\n",
    "print(hardy.count(\"T\"))\n",
    "print(hardy.find(\"TCA\"))\n",
    "print(hardy.find(\"G\")) #g yang pertama doang\n",
    "print(hardy.rfind(\"G\")) #g yang teraljor doang mencari dari yang kanan\n",
    "\n",
    "\n",
    "\n",
    "from Bio.SeqUtils import nt_search\n",
    "\n",
    "# dia bisa banyak match\n",
    "\n",
    "nt_search(str(hardy),\"G\") # harus di cast\n",
    "\n",
    "# counting + plotting\n",
    "\n",
    "from collections import Counter\n",
    "\n",
    "# print(Counter(hardy)) # menghitung gc content\n",
    "count_res = (Counter(hardy)) # menghitung gc content\n",
    "\n",
    "\n",
    "from matplotlib import pyplot as plt\n",
    "\n",
    "plt.bar(count_res.keys(), count_res.values())\n",
    "\n",
    "# G - C\n",
    "#  A - T\n",
    "\n",
    "dna_zenli = Seq(\"ATGCT\")\n",
    "\n",
    "# complement() -> buat mencari lawan dari nucleobase\n",
    "#  transcribe() -> merubah DNA menjadi RNA\n",
    "#  translate() -> merubah RNA -> Asam Amino\n",
    "\n",
    "print(dna_zenli.complement())\n",
    "print(dna_zenli.transcribe().translate()) # metionin\n",
    "\n",
    "#  DNA -> RNA\n",
    "#  Timin -> Urasil\n",
    "\n",
    "# dir(Seq)\n",
    "\n",
    "#  ATGACT\n",
    "# TACTGA\n"
   ]
  }
 ],
 "metadata": {
  "kernelspec": {
   "display_name": "Python 3",
   "language": "python",
   "name": "python3"
  },
  "language_info": {
   "codemirror_mode": {
    "name": "ipython",
    "version": 3
   },
   "file_extension": ".py",
   "mimetype": "text/x-python",
   "name": "python",
   "nbconvert_exporter": "python",
   "pygments_lexer": "ipython3",
   "version": "3.7.6"
  }
 },
 "nbformat": 4,
 "nbformat_minor": 2
}
