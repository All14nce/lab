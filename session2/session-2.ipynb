{
 "cells": [
  {
   "cell_type": "markdown",
   "metadata": {},
   "source": [
    "GC and AT Composition on DNA"
   ]
  },
  {
   "cell_type": "code",
   "execution_count": 4,
   "metadata": {},
   "outputs": [
    {
     "name": "stdout",
     "output_type": "stream",
     "text": [
      "48.275862068965516\n",
      "51.724137931034484\n"
     ]
    }
   ],
   "source": [
    "# cara naive\n",
    "from Bio.Seq import Seq\n",
    "dna = Seq(\"ACTGACGATGCTGATCGATGCTAGTCGTA\")\n",
    "\n",
    "GC = (dna.count('G') + dna.count('C')) / len(dna) * 100\n",
    "AT = (dna.count('A') + dna.count('T')) / len(dna) * 100\n",
    "\n",
    "print(GC)\n",
    "print(AT)"
   ]
  },
  {
   "cell_type": "code",
   "execution_count": 7,
   "metadata": {},
   "outputs": [
    {
     "name": "stdout",
     "output_type": "stream",
     "text": [
      "48.275862068965516\n"
     ]
    }
   ],
   "source": [
    "# cara gampang / sayang dia nda ada AT\n",
    "from Bio.SeqUtils import GC\n",
    "\n",
    "importGC = GC(dna)\n",
    "print(importGC)"
   ]
  },
  {
   "cell_type": "markdown",
   "metadata": {},
   "source": [
    "Melting Point Of DNA"
   ]
  },
  {
   "cell_type": "code",
   "execution_count": 9,
   "metadata": {},
   "outputs": [
    {
     "name": "stdout",
     "output_type": "stream",
     "text": [
      "86.0\n",
      "58.758340541277235\n"
     ]
    }
   ],
   "source": [
    "from Bio.SeqUtils import MeltingTemp as mt\n",
    "\n",
    "# melting point -> pada suhu berapa mereka akan terpecah\n",
    "print(mt.Tm_Wallace(dna)) # satuan calvin\n",
    "print(mt.Tm_GC(dna))\n"
   ]
  },
  {
   "cell_type": "markdown",
   "metadata": {},
   "source": [
    "Nucleotide Molecular Weight"
   ]
  },
  {
   "cell_type": "code",
   "execution_count": 10,
   "metadata": {},
   "outputs": [
    {
     "name": "stdout",
     "output_type": "stream",
     "text": [
      "9012.7444\n"
     ]
    }
   ],
   "source": [
    "from Bio.SeqUtils import molecular_weight\n",
    "\n",
    "print(molecular_weight(dna)) "
   ]
  }
 ],
 "metadata": {
  "kernelspec": {
   "display_name": "ComputationalBiology",
   "language": "python",
   "name": "python3"
  },
  "language_info": {
   "codemirror_mode": {
    "name": "ipython",
    "version": 3
   },
   "file_extension": ".py",
   "mimetype": "text/x-python",
   "name": "python",
   "nbconvert_exporter": "python",
   "pygments_lexer": "ipython3",
   "version": "3.7.6"
  }
 },
 "nbformat": 4,
 "nbformat_minor": 2
}
