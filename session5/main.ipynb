{
 "cells": [
  {
   "cell_type": "markdown",
   "metadata": {},
   "source": []
  },
  {
   "cell_type": "code",
   "execution_count": 2,
   "metadata": {},
   "outputs": [],
   "source": [
    "from Bio import Entrez\n",
    "\n",
    "Entrez.email = 'learnbiopython@gmail.com'"
   ]
  },
  {
   "cell_type": "code",
   "execution_count": 5,
   "metadata": {},
   "outputs": [
    {
     "name": "stdout",
     "output_type": "stream",
     "text": [
      "dict_keys(['Database', 'Query', 'CorrectedQuery', 'SpelledQuery'])\n",
      "Database : pmc\n",
      "Query : biopython\n",
      "CorrectedQuery : \n",
      "SpelledQuery : []\n"
     ]
    }
   ],
   "source": [
    "record = Entrez.read(Entrez.espell(db='pmc',term='biopython'))\n",
    "print(record.keys())\n",
    "\n",
    "for key in record.keys():\n",
    "    print(key,\":\",record[key])"
   ]
  },
  {
   "cell_type": "code",
   "execution_count": 9,
   "metadata": {},
   "outputs": [
    {
     "name": "stdout",
     "output_type": "stream",
     "text": [
      "dict_keys(['Count', 'RetMax', 'RetStart', 'IdList', 'TranslationSet', 'TranslationStack', 'QueryTranslation'])\n"
     ]
    }
   ],
   "source": [
    "record = Entrez.read(Entrez.esearch(db='pmc',term='biopython', retmax = 10))\n",
    "print(record.keys())"
   ]
  },
  {
   "cell_type": "code",
   "execution_count": null,
   "metadata": {},
   "outputs": [],
   "source": []
  },
  {
   "cell_type": "code",
   "execution_count": 10,
   "metadata": {},
   "outputs": [
    {
     "name": "stdout",
     "output_type": "stream",
     "text": [
      "Targeted metagenomic assessment reflects critical colonization in battlefield injuries   Microbiology Spectrum\n",
      "AI-assisted structural consensus-proteome prediction of human monkeypox viruses isolated within a year after the 2022 multi-country outbreak   Microbiology Spectrum\n",
      "The population-level impact of Enterococcus faecalis genetics on intestinal colonization and extraintestinal infection   Microbiology Spectrum\n",
      "Immune targets to stop future SARS-CoV-2 variants   Microbiology Spectrum\n",
      "Diverse mobile genetic elements shaped the evolution of Streptomyces virulence   Microbial Genomics\n",
      "Genome features of a novel hydrocarbonoclastic Chryseobacterium oranimense strain and its comparison to bacterial oil-degraders and to other C. oranimense strains   DNA Research: An International Journal for Rapid Publication of Reports on Genes and Genomes\n",
      "Assigning functionality to cysteines by base editing of cancer dependency genes   Nature chemical biology\n",
      "DNABERT-based explainable lncRNA identification in plant genome assemblies   Computational and Structural Biotechnology Journal\n",
      "HALD, a human aging and longevity knowledge graph for precision gerontology and geroscience analyses   Scientific Data\n",
      "Intraspecific Variation of Transposable Elements Reveals Differences in the Evolutionary History of Fungal Phytopathogen Pathotypes   Genome Biology and Evolution\n"
     ]
    }
   ],
   "source": [
    "Id = record['IdList']\n",
    "for id in Id[:10]:\n",
    "    summary = Entrez.read(Entrez.esummary(db='pmc', id=id))\n",
    "    for handle in summary:\n",
    "        print(handle['Title'], \" \", handle['FullJournalName'])\n",
    "    "
   ]
  },
  {
   "cell_type": "code",
   "execution_count": 14,
   "metadata": {},
   "outputs": [
    {
     "name": "stdout",
     "output_type": "stream",
     "text": [
      "{'Count': '66', 'RetMax': '66', 'RetStart': '0', 'IdList': ['NG_009846.2', 'NM_001300984.2', 'NM_000275.3', 'NC_000015.10', 'NT_187660.1', 'NC_060939.1', 'NW_011332701.1', 'XR_008488954.1', 'XM_054378103.1', 'XM_054378102.1', 'XM_054378101.1', 'XM_054378100.1', 'XM_054378099.1', 'XM_054378098.1', 'XM_054378097.1', 'XM_054378096.1', 'XM_054378095.1', 'XM_054378094.1', 'XM_054378093.1', 'XM_054378092.1', 'XM_054378091.1', 'XM_054378090.1', 'XM_054378089.1', 'XM_054378088.1', 'XM_054378087.1', 'XM_054378086.1', 'XM_054378085.1', 'XM_054378084.1', 'XM_054378083.1', 'XM_054378082.1', 'XM_054378081.1', 'XM_054378080.1', 'XM_054378079.1', 'XM_054378078.1', 'XM_054378077.1', 'XM_054378076.1', 'XM_054378075.1', 'XM_054378074.1', 'XR_001751294.2', 'XM_017022265.2', 'XM_047432619.1', 'XM_047432618.1', 'XM_047432617.1', 'XM_047432616.1', 'XM_047432615.1', 'XM_047432614.1', 'XM_017022264.2', 'XM_047432613.1', 'XM_047432612.1', 'XM_017022263.2', 'XM_047432611.1', 'XM_017022262.2', 'XM_017022261.2', 'XM_047432610.1', 'XM_047432609.1', 'XM_047432608.1', 'XM_047432607.1', 'XM_017022260.2', 'XM_017022259.2', 'XM_047432606.1', 'XM_047432605.1', 'XM_017022258.2', 'XM_017022257.2', 'XM_017022256.2', 'XM_011521640.3', 'XM_017022255.2'], 'TranslationSet': [{'From': 'Homo sapiens[Organism]', 'To': '\"Homo sapiens\"[Organism]'}], 'TranslationStack': [{'Term': 'OCA2[Gene Name]', 'Field': 'Gene Name', 'Count': '2546', 'Explode': 'N'}, {'Term': '\"Homo sapiens\"[Organism]', 'Field': 'Organism', 'Count': '28490053', 'Explode': 'Y'}, 'AND', {'Term': 'refSeq[Keyword]', 'Field': 'Keyword', 'Count': '105515090', 'Explode': 'N'}, 'AND'], 'QueryTranslation': 'OCA2[Gene Name] AND \"Homo sapiens\"[Organism] AND refSeq[Keyword]'}\n",
      "Seq-entry ::= set {\n",
      "\n",
      "Seq-entry ::= set {\n",
      "\n"
     ]
    }
   ],
   "source": [
    "# DOI, mengambil data dari Db entrez \n",
    "\n",
    "record = Entrez.read(Entrez.esearch(db='nucleotide', term='OCA2[Gene Name] AND Homo sapiens [Organism] AND refSeq[Keyword]', retmax = 100, idtype = 'acc'))\n",
    "\n",
    "print(record)\n",
    "\n",
    "for id in record['IdList']:\n",
    "    if 'NM_' in id:\n",
    "        fetch = Entrez.efetch(db='nucleotide', id=id, retype='fasta',retmode ='text')\n",
    "        readFetch = fetch.readline()\n",
    "        print(readFetch)"
   ]
  },
  {
   "cell_type": "markdown",
   "metadata": {},
   "source": [
    "pelajarin global, local, hamming, leven.. itu"
   ]
  }
 ],
 "metadata": {
  "kernelspec": {
   "display_name": "ComputationalBiology",
   "language": "python",
   "name": "python3"
  },
  "language_info": {
   "codemirror_mode": {
    "name": "ipython",
    "version": 3
   },
   "file_extension": ".py",
   "mimetype": "text/x-python",
   "name": "python",
   "nbconvert_exporter": "python",
   "pygments_lexer": "ipython3",
   "version": "3.7.6"
  }
 },
 "nbformat": 4,
 "nbformat_minor": 2
}
